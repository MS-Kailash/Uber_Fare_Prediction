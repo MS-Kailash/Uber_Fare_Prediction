{
 "cells": [
  {
   "cell_type": "code",
   "execution_count": 1,
   "id": "638a5ea9-50f1-4661-b70c-e5ef012ea774",
   "metadata": {},
   "outputs": [],
   "source": [
    "import pandas as pd\n",
    "import numpy as np\n",
    "import matplotlib.pyplot as plt\n",
    "import seaborn as sns\n",
    "import geopy.distance\n",
    "from sklearn.preprocessing import LabelEncoder\n",
    "from sklearn.preprocessing import StandardScaler\n",
    "from sklearn.preprocessing import MinMaxScaler\n",
    "from sklearn.model_selection import train_test_split\n",
    "from sklearn.linear_model import LinearRegression\n",
    "from sklearn.ensemble import RandomForestRegressor\n",
    "from sklearn.model_selection import RandomizedSearchCV\n",
    "import warnings \n",
    "warnings.filterwarnings('ignore')\n",
    "warnings.filterwarnings('ignore', category=DeprecationWarning)\n",
    "from statsmodels.stats.outliers_influence import variance_inflation_factor"
   ]
  },
  {
   "cell_type": "markdown",
   "id": "6246431b-ea0b-4bb2-b519-4d8946ddc648",
   "metadata": {},
   "source": [
    "# <center>1. Data Exploration and Preprocessing"
   ]
  },
  {
   "cell_type": "code",
   "execution_count": 2,
   "id": "d450bb5f-d066-4f18-bf59-077ceb4c9480",
   "metadata": {},
   "outputs": [
    {
     "data": {
      "text/html": [
       "<div>\n",
       "<style scoped>\n",
       "    .dataframe tbody tr th:only-of-type {\n",
       "        vertical-align: middle;\n",
       "    }\n",
       "\n",
       "    .dataframe tbody tr th {\n",
       "        vertical-align: top;\n",
       "    }\n",
       "\n",
       "    .dataframe thead th {\n",
       "        text-align: right;\n",
       "    }\n",
       "</style>\n",
       "<table border=\"1\" class=\"dataframe\">\n",
       "  <thead>\n",
       "    <tr style=\"text-align: right;\">\n",
       "      <th></th>\n",
       "      <th>fare_amount</th>\n",
       "      <th>pickup_datetime</th>\n",
       "      <th>pickup_longitude</th>\n",
       "      <th>pickup_latitude</th>\n",
       "      <th>dropoff_longitude</th>\n",
       "      <th>dropoff_latitude</th>\n",
       "      <th>passenger_count</th>\n",
       "    </tr>\n",
       "  </thead>\n",
       "  <tbody>\n",
       "    <tr>\n",
       "      <th>0</th>\n",
       "      <td>7.5</td>\n",
       "      <td>2015-05-07 19:52:06 UTC</td>\n",
       "      <td>-73.999817</td>\n",
       "      <td>40.738354</td>\n",
       "      <td>-73.999512</td>\n",
       "      <td>40.723217</td>\n",
       "      <td>1</td>\n",
       "    </tr>\n",
       "    <tr>\n",
       "      <th>1</th>\n",
       "      <td>7.7</td>\n",
       "      <td>2009-07-17 20:04:56 UTC</td>\n",
       "      <td>-73.994355</td>\n",
       "      <td>40.728225</td>\n",
       "      <td>-73.994710</td>\n",
       "      <td>40.750325</td>\n",
       "      <td>1</td>\n",
       "    </tr>\n",
       "    <tr>\n",
       "      <th>2</th>\n",
       "      <td>12.9</td>\n",
       "      <td>2009-08-24 21:45:00 UTC</td>\n",
       "      <td>-74.005043</td>\n",
       "      <td>40.740770</td>\n",
       "      <td>-73.962565</td>\n",
       "      <td>40.772647</td>\n",
       "      <td>1</td>\n",
       "    </tr>\n",
       "    <tr>\n",
       "      <th>3</th>\n",
       "      <td>5.3</td>\n",
       "      <td>2009-06-26 08:22:21 UTC</td>\n",
       "      <td>-73.976124</td>\n",
       "      <td>40.790844</td>\n",
       "      <td>-73.965316</td>\n",
       "      <td>40.803349</td>\n",
       "      <td>3</td>\n",
       "    </tr>\n",
       "    <tr>\n",
       "      <th>4</th>\n",
       "      <td>16.0</td>\n",
       "      <td>2014-08-28 17:47:00 UTC</td>\n",
       "      <td>-73.925023</td>\n",
       "      <td>40.744085</td>\n",
       "      <td>-73.973082</td>\n",
       "      <td>40.761247</td>\n",
       "      <td>5</td>\n",
       "    </tr>\n",
       "  </tbody>\n",
       "</table>\n",
       "</div>"
      ],
      "text/plain": [
       "   fare_amount          pickup_datetime  pickup_longitude  pickup_latitude  \\\n",
       "0          7.5  2015-05-07 19:52:06 UTC        -73.999817        40.738354   \n",
       "1          7.7  2009-07-17 20:04:56 UTC        -73.994355        40.728225   \n",
       "2         12.9  2009-08-24 21:45:00 UTC        -74.005043        40.740770   \n",
       "3          5.3  2009-06-26 08:22:21 UTC        -73.976124        40.790844   \n",
       "4         16.0  2014-08-28 17:47:00 UTC        -73.925023        40.744085   \n",
       "\n",
       "   dropoff_longitude  dropoff_latitude  passenger_count  \n",
       "0         -73.999512         40.723217                1  \n",
       "1         -73.994710         40.750325                1  \n",
       "2         -73.962565         40.772647                1  \n",
       "3         -73.965316         40.803349                3  \n",
       "4         -73.973082         40.761247                5  "
      ]
     },
     "execution_count": 2,
     "metadata": {},
     "output_type": "execute_result"
    }
   ],
   "source": [
    "df = pd.read_csv(\"uber.csv\")\n",
    "\n",
    "df.drop(['Unnamed: 0','key'], axis = 1, inplace=True)\n",
    "df.head()"
   ]
  },
  {
   "cell_type": "code",
   "execution_count": 3,
   "id": "2dce07cb-b57f-4aa6-a708-c36e597cf4ec",
   "metadata": {},
   "outputs": [],
   "source": [
    "df = df[df.passenger_count != 0]\n",
    "df['passenger_count'] = df['passenger_count'].replace([208],2)"
   ]
  },
  {
   "cell_type": "code",
   "execution_count": 4,
   "id": "37be772a-56d9-4018-b89b-61f9158dbd25",
   "metadata": {},
   "outputs": [],
   "source": [
    "df['pickup_datetime'] = pd.to_datetime(df.pickup_datetime,utc=True)\n",
    "df['pickup_timehour']= df['pickup_datetime'].apply(lambda x: x.hour)\n",
    "df['Day']= df['pickup_datetime'].dt.day_name()\n",
    "df['Day Part']= pd.cut(df['pickup_timehour'],bins=[-1,4,12,17,21,23],labels=['Night','Morning','Afternoon','Evening','Night'],ordered=False)\n",
    "df['pickup_month']= df['pickup_datetime'].apply(lambda x: x.month)\n",
    "df['pickup_year']= df['pickup_datetime'].apply(lambda x: x.year)\n",
    "df = df[(df.pickup_latitude < 90) & (df.dropoff_latitude < 90) &\n",
    "        (df.pickup_latitude >- 90) & (df.dropoff_latitude >- 90) &\n",
    "        (df.pickup_longitude < 180) & (df.dropoff_longitude < 180) &\n",
    "        (df.pickup_longitude >- 180) & (df.dropoff_longitude >- 180)]\n",
    "df['Distance'] = [round(geopy.distance.distance((df.pickup_latitude[i], df.pickup_longitude[i]),\n",
    "                                              (df.dropoff_latitude[i], df.dropoff_longitude[i])).m, 2) \n",
    "                                              for i in df.index]\n",
    "\n",
    "df['Distance'] = df.Distance / 1000"
   ]
  },
  {
   "cell_type": "code",
   "execution_count": 5,
   "id": "9ccf0c2e-898e-463d-8914-8d3dcc1b7131",
   "metadata": {},
   "outputs": [
    {
     "data": {
      "text/plain": [
       "fare_amount          0\n",
       "pickup_datetime      0\n",
       "pickup_longitude     0\n",
       "pickup_latitude      0\n",
       "dropoff_longitude    0\n",
       "dropoff_latitude     0\n",
       "passenger_count      0\n",
       "pickup_timehour      0\n",
       "Day                  0\n",
       "Day Part             0\n",
       "pickup_month         0\n",
       "pickup_year          0\n",
       "Distance             0\n",
       "dtype: int64"
      ]
     },
     "execution_count": 5,
     "metadata": {},
     "output_type": "execute_result"
    }
   ],
   "source": [
    "df.isnull().sum()"
   ]
  },
  {
   "cell_type": "code",
   "execution_count": 6,
   "id": "14c8be02-cbd9-45cd-bb89-b461343e2cd3",
   "metadata": {},
   "outputs": [
    {
     "data": {
      "text/plain": [
       "fare_amount                      float64\n",
       "pickup_datetime      datetime64[ns, UTC]\n",
       "pickup_longitude                 float64\n",
       "pickup_latitude                  float64\n",
       "dropoff_longitude                float64\n",
       "dropoff_latitude                 float64\n",
       "passenger_count                    int64\n",
       "pickup_timehour                    int64\n",
       "Day                               object\n",
       "Day Part                        category\n",
       "pickup_month                       int64\n",
       "pickup_year                        int64\n",
       "Distance                         float64\n",
       "dtype: object"
      ]
     },
     "execution_count": 6,
     "metadata": {},
     "output_type": "execute_result"
    }
   ],
   "source": [
    "df.dtypes"
   ]
  },
  {
   "cell_type": "code",
   "execution_count": 7,
   "id": "93cda0b0-c582-4c68-9b35-57f59f610d19",
   "metadata": {},
   "outputs": [
    {
     "data": {
      "text/html": [
       "<div>\n",
       "<style scoped>\n",
       "    .dataframe tbody tr th:only-of-type {\n",
       "        vertical-align: middle;\n",
       "    }\n",
       "\n",
       "    .dataframe tbody tr th {\n",
       "        vertical-align: top;\n",
       "    }\n",
       "\n",
       "    .dataframe thead th {\n",
       "        text-align: right;\n",
       "    }\n",
       "</style>\n",
       "<table border=\"1\" class=\"dataframe\">\n",
       "  <thead>\n",
       "    <tr style=\"text-align: right;\">\n",
       "      <th></th>\n",
       "      <th>fare_amount</th>\n",
       "      <th>pickup_datetime</th>\n",
       "      <th>pickup_longitude</th>\n",
       "      <th>pickup_latitude</th>\n",
       "      <th>dropoff_longitude</th>\n",
       "      <th>dropoff_latitude</th>\n",
       "      <th>passenger_count</th>\n",
       "      <th>pickup_timehour</th>\n",
       "      <th>Day</th>\n",
       "      <th>Day Part</th>\n",
       "      <th>pickup_month</th>\n",
       "      <th>pickup_year</th>\n",
       "      <th>Distance</th>\n",
       "    </tr>\n",
       "  </thead>\n",
       "  <tbody>\n",
       "    <tr>\n",
       "      <th>0</th>\n",
       "      <td>7.5</td>\n",
       "      <td>2015-05-07 19:52:06+00:00</td>\n",
       "      <td>-73.999817</td>\n",
       "      <td>40.738354</td>\n",
       "      <td>-73.999512</td>\n",
       "      <td>40.723217</td>\n",
       "      <td>1</td>\n",
       "      <td>19</td>\n",
       "      <td>Thursday</td>\n",
       "      <td>Evening</td>\n",
       "      <td>5</td>\n",
       "      <td>2015</td>\n",
       "      <td>1.68111</td>\n",
       "    </tr>\n",
       "    <tr>\n",
       "      <th>1</th>\n",
       "      <td>7.7</td>\n",
       "      <td>2009-07-17 20:04:56+00:00</td>\n",
       "      <td>-73.994355</td>\n",
       "      <td>40.728225</td>\n",
       "      <td>-73.994710</td>\n",
       "      <td>40.750325</td>\n",
       "      <td>1</td>\n",
       "      <td>20</td>\n",
       "      <td>Friday</td>\n",
       "      <td>Evening</td>\n",
       "      <td>7</td>\n",
       "      <td>2009</td>\n",
       "      <td>2.45436</td>\n",
       "    </tr>\n",
       "    <tr>\n",
       "      <th>2</th>\n",
       "      <td>12.9</td>\n",
       "      <td>2009-08-24 21:45:00+00:00</td>\n",
       "      <td>-74.005043</td>\n",
       "      <td>40.740770</td>\n",
       "      <td>-73.962565</td>\n",
       "      <td>40.772647</td>\n",
       "      <td>1</td>\n",
       "      <td>21</td>\n",
       "      <td>Monday</td>\n",
       "      <td>Evening</td>\n",
       "      <td>8</td>\n",
       "      <td>2009</td>\n",
       "      <td>5.03960</td>\n",
       "    </tr>\n",
       "    <tr>\n",
       "      <th>3</th>\n",
       "      <td>5.3</td>\n",
       "      <td>2009-06-26 08:22:21+00:00</td>\n",
       "      <td>-73.976124</td>\n",
       "      <td>40.790844</td>\n",
       "      <td>-73.965316</td>\n",
       "      <td>40.803349</td>\n",
       "      <td>3</td>\n",
       "      <td>8</td>\n",
       "      <td>Friday</td>\n",
       "      <td>Morning</td>\n",
       "      <td>6</td>\n",
       "      <td>2009</td>\n",
       "      <td>1.66144</td>\n",
       "    </tr>\n",
       "    <tr>\n",
       "      <th>4</th>\n",
       "      <td>16.0</td>\n",
       "      <td>2014-08-28 17:47:00+00:00</td>\n",
       "      <td>-73.925023</td>\n",
       "      <td>40.744085</td>\n",
       "      <td>-73.973082</td>\n",
       "      <td>40.761247</td>\n",
       "      <td>5</td>\n",
       "      <td>17</td>\n",
       "      <td>Thursday</td>\n",
       "      <td>Afternoon</td>\n",
       "      <td>8</td>\n",
       "      <td>2014</td>\n",
       "      <td>4.48373</td>\n",
       "    </tr>\n",
       "  </tbody>\n",
       "</table>\n",
       "</div>"
      ],
      "text/plain": [
       "   fare_amount           pickup_datetime  pickup_longitude  pickup_latitude  \\\n",
       "0          7.5 2015-05-07 19:52:06+00:00        -73.999817        40.738354   \n",
       "1          7.7 2009-07-17 20:04:56+00:00        -73.994355        40.728225   \n",
       "2         12.9 2009-08-24 21:45:00+00:00        -74.005043        40.740770   \n",
       "3          5.3 2009-06-26 08:22:21+00:00        -73.976124        40.790844   \n",
       "4         16.0 2014-08-28 17:47:00+00:00        -73.925023        40.744085   \n",
       "\n",
       "   dropoff_longitude  dropoff_latitude  passenger_count  pickup_timehour  \\\n",
       "0         -73.999512         40.723217                1               19   \n",
       "1         -73.994710         40.750325                1               20   \n",
       "2         -73.962565         40.772647                1               21   \n",
       "3         -73.965316         40.803349                3                8   \n",
       "4         -73.973082         40.761247                5               17   \n",
       "\n",
       "        Day   Day Part  pickup_month  pickup_year  Distance  \n",
       "0  Thursday    Evening             5         2015   1.68111  \n",
       "1    Friday    Evening             7         2009   2.45436  \n",
       "2    Monday    Evening             8         2009   5.03960  \n",
       "3    Friday    Morning             6         2009   1.66144  \n",
       "4  Thursday  Afternoon             8         2014   4.48373  "
      ]
     },
     "execution_count": 7,
     "metadata": {},
     "output_type": "execute_result"
    }
   ],
   "source": [
    "df.head()"
   ]
  },
  {
   "cell_type": "code",
   "execution_count": 8,
   "id": "b08fbc61-ff9c-4feb-9a34-b2f62e805403",
   "metadata": {},
   "outputs": [
    {
     "data": {
      "text/plain": [
       "(199279, 13)"
      ]
     },
     "execution_count": 8,
     "metadata": {},
     "output_type": "execute_result"
    }
   ],
   "source": [
    "df.shape"
   ]
  },
  {
   "cell_type": "markdown",
   "id": "94ff4775-916a-4188-ae65-db8954571926",
   "metadata": {},
   "source": [
    "# <center>2. Exploratory Data Analysis"
   ]
  },
  {
   "cell_type": "markdown",
   "id": "8bc4850d-acfb-4311-88c7-e05dac58fee6",
   "metadata": {},
   "source": [
    "### Distribution of numeric features "
   ]
  },
  {
   "cell_type": "code",
   "execution_count": 9,
   "id": "bfa5b1ed-5fc5-4b52-b90d-f20f4e83d8dc",
   "metadata": {},
   "outputs": [
    {
     "data": {
      "image/png": "[encoded data removed]",
      "text/plain": [
       "<Figure size 1008x576 with 1 Axes>"
      ]
     },
     "metadata": {
      "needs_background": "light"
     },
     "output_type": "display_data"
    }
   ],
   "source": [
    "# Distance\n",
    "\n",
    "plt.figure(figsize = [14,8])\n",
    "sns.distplot(df['Distance'], color = 'g',hist_kws = dict(edgecolor = \"black\", linewidth = 2), bins = 10)\n",
    "plt.title('Distance in (kms) Variable Distribution')\n",
    "plt.show()"
   ]
  },
  {
   "cell_type": "code",
   "execution_count": 10,
   "id": "a2808d54-62c4-45fc-940f-d00191dc977a",
   "metadata": {},
   "outputs": [
    {
     "data": {
      "text/plain": [
       "<AxesSubplot:>"
      ]
     },
     "execution_count": 10,
     "metadata": {},
     "output_type": "execute_result"
    },
    {
     "data": {
      "image/png": "[encoded data removed]",
      "text/plain": [
       "<Figure size 1008x576 with 1 Axes>"
      ]
     },
     "metadata": {
      "needs_background": "light"
     },
     "output_type": "display_data"
    }
   ],
   "source": [
    "plt.figure(figsize = [14,8])\n",
    "df.boxplot(\"Distance\")"
   ]
  },
  {
   "cell_type": "code",
   "execution_count": 11,
   "id": "77fefaa9-1357-43a1-93d8-dd8f8df2aa7a",
   "metadata": {},
   "outputs": [
    {
     "data": {
      "image/png": "[encoded data removed]",
      "text/plain": [
       "<Figure size 1008x288 with 1 Axes>"
      ]
     },
     "metadata": {
      "needs_background": "light"
     },
     "output_type": "display_data"
    }
   ],
   "source": [
    "# Passenger count\n",
    "\n",
    "plt.figure(figsize = [14,4])\n",
    "sns.distplot(df['passenger_count'], color = 'g',hist_kws=dict(edgecolor = \"black\", linewidth = 2), bins = 30)\n",
    "plt.title('Passenger_count Variable Distribution')\n",
    "plt.show()"
   ]
  },
  {
   "cell_type": "code",
   "execution_count": 12,
   "id": "d8a74f18-f063-4339-acfe-f6eaf6b7a616",
   "metadata": {},
   "outputs": [
    {
     "data": {
      "text/plain": [
       "<AxesSubplot:>"
      ]
     },
     "execution_count": 12,
     "metadata": {},
     "output_type": "execute_result"
    },
    {
     "data": {
      "image/png": "[encoded data removed]",
      "text/plain": [
       "<Figure size 1008x288 with 1 Axes>"
      ]
     },
     "metadata": {
      "needs_background": "light"
     },
     "output_type": "display_data"
    }
   ],
   "source": [
    "plt.figure(figsize = [14,4])\n",
    "df.boxplot(\"passenger_count\")"
   ]
  },
  {
   "cell_type": "code",
   "execution_count": 13,
   "id": "e608aa76-2ebc-4273-a36c-32fe17fe2a9e",
   "metadata": {},
   "outputs": [
    {
     "data": {
      "image/png": "[encoded data removed]",
      "text/plain": [
       "<Figure size 1008x288 with 1 Axes>"
      ]
     },
     "metadata": {
      "needs_background": "light"
     },
     "output_type": "display_data"
    }
   ],
   "source": [
    "# Fare amount\n",
    "\n",
    "plt.figure(figsize=[14,4])\n",
    "sns.distplot(df['fare_amount'], color='g',hist_kws=dict(edgecolor=\"black\", linewidth=2), bins=30)\n",
    "plt.title('Fare amount in ($) Variable Distribution')\n",
    "plt.show()"
   ]
  },
  {
   "cell_type": "code",
   "execution_count": 14,
   "id": "6d69a2ac-e9a4-4dca-bd2d-fde7a0ccf927",
   "metadata": {},
   "outputs": [
    {
     "data": {
      "text/plain": [
       "<AxesSubplot:>"
      ]
     },
     "execution_count": 14,
     "metadata": {},
     "output_type": "execute_result"
    },
    {
     "data": {
      "image/png": "[encoded data removed]",
      "text/plain": [
       "<Figure size 1008x576 with 1 Axes>"
      ]
     },
     "metadata": {
      "needs_background": "light"
     },
     "output_type": "display_data"
    }
   ],
   "source": [
    "plt.figure(figsize=[14,8])\n",
    "df.boxplot(\"fare_amount\")"
   ]
  },
  {
   "cell_type": "markdown",
   "id": "e8f7b05b-9f6a-438b-b494-e6bcfccf81b0",
   "metadata": {},
   "source": [
    "### Distribution of categorical features"
   ]
  },
  {
   "cell_type": "code",
   "execution_count": 15,
   "id": "e12d8eac-1af4-4b86-8300-592fc4e184c2",
   "metadata": {},
   "outputs": [
    {
     "data": {
      "image/png": "[encoded data removed]",
      "text/plain": [
       "<Figure size 1008x288 with 1 Axes>"
      ]
     },
     "metadata": {
      "needs_background": "light"
     },
     "output_type": "display_data"
    }
   ],
   "source": [
    "# Day\n",
    "\n",
    "Day = dict(df.Day.value_counts())\n",
    "keys = []\n",
    "values = []\n",
    "for i in sorted(Day.keys()):\n",
    "    keys.append(i)\n",
    "    values.append(Day[i])\n",
    "    \n",
    "plt.figure(figsize = [14,4])\n",
    "plt.bar(keys, values)\n",
    "plt.title('Day Variable Distribution')\n",
    "plt.show()"
   ]
  },
  {
   "cell_type": "code",
   "execution_count": 16,
   "id": "839a08cb-a576-4a34-a7c8-24d8eedf90c0",
   "metadata": {},
   "outputs": [
    {
     "data": {
      "image/png": "[encoded data removed]",
      "text/plain": [
       "<Figure size 1008x288 with 1 Axes>"
      ]
     },
     "metadata": {
      "needs_background": "light"
     },
     "output_type": "display_data"
    }
   ],
   "source": [
    "# Day Partly Segment\n",
    "\n",
    "Day = dict(df['Day Part'].value_counts())\n",
    "keys = []\n",
    "values = []\n",
    "for i in sorted(Day.keys()):\n",
    "    keys.append(i)\n",
    "    values.append(Day[i])\n",
    "    \n",
    "plt.figure(figsize = [14,4])\n",
    "plt.bar(keys, values)\n",
    "plt.title('Day Part Variable Distribution')\n",
    "plt.show()"
   ]
  },
  {
   "cell_type": "code",
   "execution_count": 17,
   "id": "da12f3a1-ff29-4a05-a293-1cd566315647",
   "metadata": {},
   "outputs": [
    {
     "data": {
      "image/png": "[encoded data removed]",
      "text/plain": [
       "<Figure size 1008x288 with 1 Axes>"
      ]
     },
     "metadata": {
      "needs_background": "light"
     },
     "output_type": "display_data"
    }
   ],
   "source": [
    "# Monthly quater\n",
    "\n",
    "month = dict(df.pickup_month.value_counts())\n",
    "keys = ['Jan', 'Feb', 'Mar', 'Apr', 'May', 'June', 'July', 'Aug', 'Sept', 'Oct', 'Nov', 'Dec']\n",
    "values = []\n",
    "for i in sorted(month.keys()):\n",
    "#     keys.append(i)\n",
    "    values.append(month[i])\n",
    "    \n",
    "plt.figure(figsize = [14,4])\n",
    "plt.bar(keys, values)\n",
    "plt.title('Pickup Month Variable Distribution')\n",
    "plt.show()"
   ]
  },
  {
   "cell_type": "code",
   "execution_count": 18,
   "id": "e3ced5d1-d0aa-466e-aa8a-d7f3d825d238",
   "metadata": {},
   "outputs": [
    {
     "data": {
      "text/html": [
       "<div>\n",
       "<style scoped>\n",
       "    .dataframe tbody tr th:only-of-type {\n",
       "        vertical-align: middle;\n",
       "    }\n",
       "\n",
       "    .dataframe tbody tr th {\n",
       "        vertical-align: top;\n",
       "    }\n",
       "\n",
       "    .dataframe thead th {\n",
       "        text-align: right;\n",
       "    }\n",
       "</style>\n",
       "<table border=\"1\" class=\"dataframe\">\n",
       "  <thead>\n",
       "    <tr style=\"text-align: right;\">\n",
       "      <th></th>\n",
       "      <th>fare_amount</th>\n",
       "      <th>pickup_longitude</th>\n",
       "      <th>pickup_latitude</th>\n",
       "      <th>dropoff_longitude</th>\n",
       "      <th>dropoff_latitude</th>\n",
       "      <th>passenger_count</th>\n",
       "      <th>pickup_timehour</th>\n",
       "      <th>pickup_month</th>\n",
       "      <th>pickup_year</th>\n",
       "      <th>Distance</th>\n",
       "    </tr>\n",
       "  </thead>\n",
       "  <tbody>\n",
       "    <tr>\n",
       "      <th>count</th>\n",
       "      <td>199279.000000</td>\n",
       "      <td>199279.000000</td>\n",
       "      <td>199279.000000</td>\n",
       "      <td>199279.000000</td>\n",
       "      <td>199279.000000</td>\n",
       "      <td>199279.000000</td>\n",
       "      <td>199279.000000</td>\n",
       "      <td>199279.000000</td>\n",
       "      <td>199279.000000</td>\n",
       "      <td>199279.000000</td>\n",
       "    </tr>\n",
       "    <tr>\n",
       "      <th>mean</th>\n",
       "      <td>11.366673</td>\n",
       "      <td>-72.503969</td>\n",
       "      <td>39.919064</td>\n",
       "      <td>-72.513462</td>\n",
       "      <td>39.922967</td>\n",
       "      <td>1.689496</td>\n",
       "      <td>13.492701</td>\n",
       "      <td>6.283141</td>\n",
       "      <td>2011.743837</td>\n",
       "      <td>20.408857</td>\n",
       "    </tr>\n",
       "    <tr>\n",
       "      <th>std</th>\n",
       "      <td>9.910671</td>\n",
       "      <td>10.442914</td>\n",
       "      <td>6.128062</td>\n",
       "      <td>10.406258</td>\n",
       "      <td>6.115921</td>\n",
       "      <td>1.305416</td>\n",
       "      <td>6.516217</td>\n",
       "      <td>3.438474</td>\n",
       "      <td>1.859195</td>\n",
       "      <td>377.863594</td>\n",
       "    </tr>\n",
       "    <tr>\n",
       "      <th>min</th>\n",
       "      <td>-52.000000</td>\n",
       "      <td>-93.824668</td>\n",
       "      <td>-74.015515</td>\n",
       "      <td>-75.458979</td>\n",
       "      <td>-74.015750</td>\n",
       "      <td>1.000000</td>\n",
       "      <td>0.000000</td>\n",
       "      <td>1.000000</td>\n",
       "      <td>2009.000000</td>\n",
       "      <td>0.000000</td>\n",
       "    </tr>\n",
       "    <tr>\n",
       "      <th>25%</th>\n",
       "      <td>6.000000</td>\n",
       "      <td>-73.992063</td>\n",
       "      <td>40.734796</td>\n",
       "      <td>-73.991409</td>\n",
       "      <td>40.733826</td>\n",
       "      <td>1.000000</td>\n",
       "      <td>9.000000</td>\n",
       "      <td>3.000000</td>\n",
       "      <td>2010.000000</td>\n",
       "      <td>1.215640</td>\n",
       "    </tr>\n",
       "    <tr>\n",
       "      <th>50%</th>\n",
       "      <td>8.500000</td>\n",
       "      <td>-73.981824</td>\n",
       "      <td>40.752584</td>\n",
       "      <td>-73.980094</td>\n",
       "      <td>40.753042</td>\n",
       "      <td>1.000000</td>\n",
       "      <td>14.000000</td>\n",
       "      <td>6.000000</td>\n",
       "      <td>2012.000000</td>\n",
       "      <td>2.121960</td>\n",
       "    </tr>\n",
       "    <tr>\n",
       "      <th>75%</th>\n",
       "      <td>12.500000</td>\n",
       "      <td>-73.967158</td>\n",
       "      <td>40.767155</td>\n",
       "      <td>-73.963662</td>\n",
       "      <td>40.767995</td>\n",
       "      <td>2.000000</td>\n",
       "      <td>19.000000</td>\n",
       "      <td>9.000000</td>\n",
       "      <td>2013.000000</td>\n",
       "      <td>3.875150</td>\n",
       "    </tr>\n",
       "    <tr>\n",
       "      <th>max</th>\n",
       "      <td>499.000000</td>\n",
       "      <td>40.808425</td>\n",
       "      <td>48.018760</td>\n",
       "      <td>40.831932</td>\n",
       "      <td>45.031598</td>\n",
       "      <td>6.000000</td>\n",
       "      <td>23.000000</td>\n",
       "      <td>12.000000</td>\n",
       "      <td>2015.000000</td>\n",
       "      <td>8783.593500</td>\n",
       "    </tr>\n",
       "  </tbody>\n",
       "</table>\n",
       "</div>"
      ],
      "text/plain": [
       "         fare_amount  pickup_longitude  pickup_latitude  dropoff_longitude  \\\n",
       "count  199279.000000     199279.000000    199279.000000      199279.000000   \n",
       "mean       11.366673        -72.503969        39.919064         -72.513462   \n",
       "std         9.910671         10.442914         6.128062          10.406258   \n",
       "min       -52.000000        -93.824668       -74.015515         -75.458979   \n",
       "25%         6.000000        -73.992063        40.734796         -73.991409   \n",
       "50%         8.500000        -73.981824        40.752584         -73.980094   \n",
       "75%        12.500000        -73.967158        40.767155         -73.963662   \n",
       "max       499.000000         40.808425        48.018760          40.831932   \n",
       "\n",
       "       dropoff_latitude  passenger_count  pickup_timehour   pickup_month  \\\n",
       "count     199279.000000    199279.000000    199279.000000  199279.000000   \n",
       "mean          39.922967         1.689496        13.492701       6.283141   \n",
       "std            6.115921         1.305416         6.516217       3.438474   \n",
       "min          -74.015750         1.000000         0.000000       1.000000   \n",
       "25%           40.733826         1.000000         9.000000       3.000000   \n",
       "50%           40.753042         1.000000        14.000000       6.000000   \n",
       "75%           40.767995         2.000000        19.000000       9.000000   \n",
       "max           45.031598         6.000000        23.000000      12.000000   \n",
       "\n",
       "         pickup_year       Distance  \n",
       "count  199279.000000  199279.000000  \n",
       "mean     2011.743837      20.408857  \n",
       "std         1.859195     377.863594  \n",
       "min      2009.000000       0.000000  \n",
       "25%      2010.000000       1.215640  \n",
       "50%      2012.000000       2.121960  \n",
       "75%      2013.000000       3.875150  \n",
       "max      2015.000000    8783.593500  "
      ]
     },
     "execution_count": 18,
     "metadata": {},
     "output_type": "execute_result"
    }
   ],
   "source": [
    "df.describe()"
   ]
  },
  {
   "cell_type": "markdown",
   "id": "987a55a8-d44a-47c3-a6cb-c8af3b74ac7c",
   "metadata": {},
   "source": [
    "### Removing outliers since boxplot showed there existance"
   ]
  },
  {
   "cell_type": "code",
   "execution_count": 19,
   "id": "af799363-1a22-4500-9bc4-7517e24c9133",
   "metadata": {},
   "outputs": [],
   "source": [
    "outlier_data = df[(df['fare_amount'] <= 0) | (df['passenger_count'] == 0) | (df['pickup_latitude'] == 0.000000)]"
   ]
  },
  {
   "cell_type": "code",
   "execution_count": 20,
   "id": "c7ff223e-1592-44f6-9400-c9d32d8c8eee",
   "metadata": {},
   "outputs": [
    {
     "data": {
      "text/plain": [
       "22"
      ]
     },
     "execution_count": 20,
     "metadata": {},
     "output_type": "execute_result"
    }
   ],
   "source": [
    "# checking the fare amount =0\n",
    "len(outlier_data[outlier_data['fare_amount'] <= 0])"
   ]
  },
  {
   "cell_type": "code",
   "execution_count": 21,
   "id": "2f6229aa-fdc6-4e3e-a8ce-8413d32fcadd",
   "metadata": {},
   "outputs": [
    {
     "data": {
      "text/plain": [
       "3759"
      ]
     },
     "execution_count": 21,
     "metadata": {},
     "output_type": "execute_result"
    }
   ],
   "source": [
    "len(outlier_data[(outlier_data['pickup_latitude'] == 0.000000) & (outlier_data['pickup_longitude'] == 0.000000)])"
   ]
  },
  {
   "cell_type": "code",
   "execution_count": 22,
   "id": "371a475b-5cd6-481e-9815-52a70abd7566",
   "metadata": {},
   "outputs": [],
   "source": [
    "#remove the outliers\n",
    "\n",
    "df = df[((df['pickup_latitude'] != 0.000000) & (df['pickup_longitude'] != 0.000000))]\n",
    "df = df[(df['fare_amount'] > 0)]\n",
    "df = df[(df['passenger_count'] != 0)]"
   ]
  },
  {
   "cell_type": "code",
   "execution_count": 23,
   "id": "863610ee-efd3-4439-a292-8dce919a899c",
   "metadata": {},
   "outputs": [],
   "source": [
    "# A threshold for distance <= 50 kms and distannce > 0\n",
    "df = df[df['Distance'] <= 50]\n",
    "df = df[df.Distance != 0.00]\n",
    "df = df[df['fare_amount'] < 300]"
   ]
  },
  {
   "cell_type": "code",
   "execution_count": 24,
   "id": "824f35b3-d52b-4412-a4c8-35ea09ae98fa",
   "metadata": {},
   "outputs": [
    {
     "data": {
      "text/html": [
       "<div>\n",
       "<style scoped>\n",
       "    .dataframe tbody tr th:only-of-type {\n",
       "        vertical-align: middle;\n",
       "    }\n",
       "\n",
       "    .dataframe tbody tr th {\n",
       "        vertical-align: top;\n",
       "    }\n",
       "\n",
       "    .dataframe thead th {\n",
       "        text-align: right;\n",
       "    }\n",
       "</style>\n",
       "<table border=\"1\" class=\"dataframe\">\n",
       "  <thead>\n",
       "    <tr style=\"text-align: right;\">\n",
       "      <th></th>\n",
       "      <th>fare_amount</th>\n",
       "      <th>pickup_datetime</th>\n",
       "      <th>pickup_longitude</th>\n",
       "      <th>pickup_latitude</th>\n",
       "      <th>dropoff_longitude</th>\n",
       "      <th>dropoff_latitude</th>\n",
       "      <th>passenger_count</th>\n",
       "      <th>pickup_timehour</th>\n",
       "      <th>Day</th>\n",
       "      <th>Day Part</th>\n",
       "      <th>pickup_month</th>\n",
       "      <th>pickup_year</th>\n",
       "      <th>Distance</th>\n",
       "    </tr>\n",
       "  </thead>\n",
       "  <tbody>\n",
       "    <tr>\n",
       "      <th>0</th>\n",
       "      <td>7.5</td>\n",
       "      <td>2015-05-07 19:52:06+00:00</td>\n",
       "      <td>-73.999817</td>\n",
       "      <td>40.738354</td>\n",
       "      <td>-73.999512</td>\n",
       "      <td>40.723217</td>\n",
       "      <td>1</td>\n",
       "      <td>19</td>\n",
       "      <td>Thursday</td>\n",
       "      <td>Evening</td>\n",
       "      <td>5</td>\n",
       "      <td>2015</td>\n",
       "      <td>1.68111</td>\n",
       "    </tr>\n",
       "    <tr>\n",
       "      <th>1</th>\n",
       "      <td>7.7</td>\n",
       "      <td>2009-07-17 20:04:56+00:00</td>\n",
       "      <td>-73.994355</td>\n",
       "      <td>40.728225</td>\n",
       "      <td>-73.994710</td>\n",
       "      <td>40.750325</td>\n",
       "      <td>1</td>\n",
       "      <td>20</td>\n",
       "      <td>Friday</td>\n",
       "      <td>Evening</td>\n",
       "      <td>7</td>\n",
       "      <td>2009</td>\n",
       "      <td>2.45436</td>\n",
       "    </tr>\n",
       "    <tr>\n",
       "      <th>2</th>\n",
       "      <td>12.9</td>\n",
       "      <td>2009-08-24 21:45:00+00:00</td>\n",
       "      <td>-74.005043</td>\n",
       "      <td>40.740770</td>\n",
       "      <td>-73.962565</td>\n",
       "      <td>40.772647</td>\n",
       "      <td>1</td>\n",
       "      <td>21</td>\n",
       "      <td>Monday</td>\n",
       "      <td>Evening</td>\n",
       "      <td>8</td>\n",
       "      <td>2009</td>\n",
       "      <td>5.03960</td>\n",
       "    </tr>\n",
       "    <tr>\n",
       "      <th>3</th>\n",
       "      <td>5.3</td>\n",
       "      <td>2009-06-26 08:22:21+00:00</td>\n",
       "      <td>-73.976124</td>\n",
       "      <td>40.790844</td>\n",
       "      <td>-73.965316</td>\n",
       "      <td>40.803349</td>\n",
       "      <td>3</td>\n",
       "      <td>8</td>\n",
       "      <td>Friday</td>\n",
       "      <td>Morning</td>\n",
       "      <td>6</td>\n",
       "      <td>2009</td>\n",
       "      <td>1.66144</td>\n",
       "    </tr>\n",
       "    <tr>\n",
       "      <th>4</th>\n",
       "      <td>16.0</td>\n",
       "      <td>2014-08-28 17:47:00+00:00</td>\n",
       "      <td>-73.925023</td>\n",
       "      <td>40.744085</td>\n",
       "      <td>-73.973082</td>\n",
       "      <td>40.761247</td>\n",
       "      <td>5</td>\n",
       "      <td>17</td>\n",
       "      <td>Thursday</td>\n",
       "      <td>Afternoon</td>\n",
       "      <td>8</td>\n",
       "      <td>2014</td>\n",
       "      <td>4.48373</td>\n",
       "    </tr>\n",
       "  </tbody>\n",
       "</table>\n",
       "</div>"
      ],
      "text/plain": [
       "   fare_amount           pickup_datetime  pickup_longitude  pickup_latitude  \\\n",
       "0          7.5 2015-05-07 19:52:06+00:00        -73.999817        40.738354   \n",
       "1          7.7 2009-07-17 20:04:56+00:00        -73.994355        40.728225   \n",
       "2         12.9 2009-08-24 21:45:00+00:00        -74.005043        40.740770   \n",
       "3          5.3 2009-06-26 08:22:21+00:00        -73.976124        40.790844   \n",
       "4         16.0 2014-08-28 17:47:00+00:00        -73.925023        40.744085   \n",
       "\n",
       "   dropoff_longitude  dropoff_latitude  passenger_count  pickup_timehour  \\\n",
       "0         -73.999512         40.723217                1               19   \n",
       "1         -73.994710         40.750325                1               20   \n",
       "2         -73.962565         40.772647                1               21   \n",
       "3         -73.965316         40.803349                3                8   \n",
       "4         -73.973082         40.761247                5               17   \n",
       "\n",
       "        Day   Day Part  pickup_month  pickup_year  Distance  \n",
       "0  Thursday    Evening             5         2015   1.68111  \n",
       "1    Friday    Evening             7         2009   2.45436  \n",
       "2    Monday    Evening             8         2009   5.03960  \n",
       "3    Friday    Morning             6         2009   1.66144  \n",
       "4  Thursday  Afternoon             8         2014   4.48373  "
      ]
     },
     "execution_count": 24,
     "metadata": {},
     "output_type": "execute_result"
    }
   ],
   "source": [
    "df.head()"
   ]
  },
  {
   "cell_type": "code",
   "execution_count": 25,
   "id": "288b776a-2b9f-435d-a601-9e84eb6ea07c",
   "metadata": {},
   "outputs": [
    {
     "data": {
      "text/plain": [
       "(193165, 13)"
      ]
     },
     "execution_count": 25,
     "metadata": {},
     "output_type": "execute_result"
    }
   ],
   "source": [
    "df.shape"
   ]
  },
  {
   "cell_type": "markdown",
   "id": "63718ba3-9b41-4ddf-b7d3-17ec0ec06c63",
   "metadata": {},
   "source": [
    "# <center>3. Feature selection and Model building"
   ]
  },
  {
   "cell_type": "code",
   "execution_count": 26,
   "id": "3da9c331-6845-47dc-b22e-bb20180dc258",
   "metadata": {},
   "outputs": [],
   "source": [
    "df2 = df.copy()"
   ]
  },
  {
   "cell_type": "code",
   "execution_count": 27,
   "id": "adbf7fed-a002-4834-9bfd-83f9798a7a51",
   "metadata": {},
   "outputs": [],
   "source": [
    "encoder = LabelEncoder()\n",
    "df2['Day'] = encoder.fit_transform(df2['Day'])\n",
    "df2['Day Part'] = encoder.fit_transform(df2['Day Part'])\n",
    "df2['pickup_year'] = encoder.fit_transform(df2['pickup_year'])\n",
    "\n",
    "scalar = StandardScaler()\n",
    "df2['Distance'] =  scalar.fit_transform(df2['Distance'].values.reshape(-1,1))"
   ]
  },
  {
   "cell_type": "code",
   "execution_count": 28,
   "id": "fd043db2-c4cf-4fa0-aae8-020f6d96c7ea",
   "metadata": {},
   "outputs": [
    {
     "data": {
      "text/html": [
       "<div>\n",
       "<style scoped>\n",
       "    .dataframe tbody tr th:only-of-type {\n",
       "        vertical-align: middle;\n",
       "    }\n",
       "\n",
       "    .dataframe tbody tr th {\n",
       "        vertical-align: top;\n",
       "    }\n",
       "\n",
       "    .dataframe thead th {\n",
       "        text-align: right;\n",
       "    }\n",
       "</style>\n",
       "<table border=\"1\" class=\"dataframe\">\n",
       "  <thead>\n",
       "    <tr style=\"text-align: right;\">\n",
       "      <th></th>\n",
       "      <th>fare_amount</th>\n",
       "      <th>pickup_datetime</th>\n",
       "      <th>pickup_longitude</th>\n",
       "      <th>pickup_latitude</th>\n",
       "      <th>dropoff_longitude</th>\n",
       "      <th>dropoff_latitude</th>\n",
       "      <th>passenger_count</th>\n",
       "      <th>pickup_timehour</th>\n",
       "      <th>Day</th>\n",
       "      <th>Day Part</th>\n",
       "      <th>pickup_month</th>\n",
       "      <th>pickup_year</th>\n",
       "      <th>Distance</th>\n",
       "    </tr>\n",
       "  </thead>\n",
       "  <tbody>\n",
       "    <tr>\n",
       "      <th>0</th>\n",
       "      <td>7.5</td>\n",
       "      <td>2015-05-07 19:52:06+00:00</td>\n",
       "      <td>-73.999817</td>\n",
       "      <td>40.738354</td>\n",
       "      <td>-73.999512</td>\n",
       "      <td>40.723217</td>\n",
       "      <td>1</td>\n",
       "      <td>19</td>\n",
       "      <td>4</td>\n",
       "      <td>1</td>\n",
       "      <td>5</td>\n",
       "      <td>6</td>\n",
       "      <td>-0.464303</td>\n",
       "    </tr>\n",
       "    <tr>\n",
       "      <th>1</th>\n",
       "      <td>7.7</td>\n",
       "      <td>2009-07-17 20:04:56+00:00</td>\n",
       "      <td>-73.994355</td>\n",
       "      <td>40.728225</td>\n",
       "      <td>-73.994710</td>\n",
       "      <td>40.750325</td>\n",
       "      <td>1</td>\n",
       "      <td>20</td>\n",
       "      <td>0</td>\n",
       "      <td>1</td>\n",
       "      <td>7</td>\n",
       "      <td>0</td>\n",
       "      <td>-0.249505</td>\n",
       "    </tr>\n",
       "    <tr>\n",
       "      <th>2</th>\n",
       "      <td>12.9</td>\n",
       "      <td>2009-08-24 21:45:00+00:00</td>\n",
       "      <td>-74.005043</td>\n",
       "      <td>40.740770</td>\n",
       "      <td>-73.962565</td>\n",
       "      <td>40.772647</td>\n",
       "      <td>1</td>\n",
       "      <td>21</td>\n",
       "      <td>1</td>\n",
       "      <td>1</td>\n",
       "      <td>8</td>\n",
       "      <td>0</td>\n",
       "      <td>0.468639</td>\n",
       "    </tr>\n",
       "    <tr>\n",
       "      <th>3</th>\n",
       "      <td>5.3</td>\n",
       "      <td>2009-06-26 08:22:21+00:00</td>\n",
       "      <td>-73.976124</td>\n",
       "      <td>40.790844</td>\n",
       "      <td>-73.965316</td>\n",
       "      <td>40.803349</td>\n",
       "      <td>3</td>\n",
       "      <td>8</td>\n",
       "      <td>0</td>\n",
       "      <td>2</td>\n",
       "      <td>6</td>\n",
       "      <td>0</td>\n",
       "      <td>-0.469767</td>\n",
       "    </tr>\n",
       "    <tr>\n",
       "      <th>4</th>\n",
       "      <td>16.0</td>\n",
       "      <td>2014-08-28 17:47:00+00:00</td>\n",
       "      <td>-73.925023</td>\n",
       "      <td>40.744085</td>\n",
       "      <td>-73.973082</td>\n",
       "      <td>40.761247</td>\n",
       "      <td>5</td>\n",
       "      <td>17</td>\n",
       "      <td>4</td>\n",
       "      <td>0</td>\n",
       "      <td>8</td>\n",
       "      <td>5</td>\n",
       "      <td>0.314226</td>\n",
       "    </tr>\n",
       "  </tbody>\n",
       "</table>\n",
       "</div>"
      ],
      "text/plain": [
       "   fare_amount           pickup_datetime  pickup_longitude  pickup_latitude  \\\n",
       "0          7.5 2015-05-07 19:52:06+00:00        -73.999817        40.738354   \n",
       "1          7.7 2009-07-17 20:04:56+00:00        -73.994355        40.728225   \n",
       "2         12.9 2009-08-24 21:45:00+00:00        -74.005043        40.740770   \n",
       "3          5.3 2009-06-26 08:22:21+00:00        -73.976124        40.790844   \n",
       "4         16.0 2014-08-28 17:47:00+00:00        -73.925023        40.744085   \n",
       "\n",
       "   dropoff_longitude  dropoff_latitude  passenger_count  pickup_timehour  Day  \\\n",
       "0         -73.999512         40.723217                1               19    4   \n",
       "1         -73.994710         40.750325                1               20    0   \n",
       "2         -73.962565         40.772647                1               21    1   \n",
       "3         -73.965316         40.803349                3                8    0   \n",
       "4         -73.973082         40.761247                5               17    4   \n",
       "\n",
       "   Day Part  pickup_month  pickup_year  Distance  \n",
       "0         1             5            6 -0.464303  \n",
       "1         1             7            0 -0.249505  \n",
       "2         1             8            0  0.468639  \n",
       "3         2             6            0 -0.469767  \n",
       "4         0             8            5  0.314226  "
      ]
     },
     "execution_count": 28,
     "metadata": {},
     "output_type": "execute_result"
    }
   ],
   "source": [
    "df2.head()"
   ]
  },
  {
   "cell_type": "code",
   "execution_count": 29,
   "id": "34fd5473-7477-4553-8255-1e83bdd077b4",
   "metadata": {},
   "outputs": [],
   "source": [
    "X = df2.iloc[:, 6:].values\n",
    "y = df2.fare_amount"
   ]
  },
  {
   "cell_type": "code",
   "execution_count": 30,
   "id": "b1b108e0-d5c2-4e7f-91b9-33e60c0ccec9",
   "metadata": {},
   "outputs": [],
   "source": [
    "X_train,X_test,y_train,y_test = train_test_split(X, y, test_size=0.3, random_state=10)"
   ]
  },
  {
   "cell_type": "code",
   "execution_count": 31,
   "id": "0b4913ad-3e83-486a-b3d7-4509f49fceb7",
   "metadata": {},
   "outputs": [
    {
     "data": {
      "text/plain": [
       "LinearRegression()"
      ]
     },
     "execution_count": 31,
     "metadata": {},
     "output_type": "execute_result"
    }
   ],
   "source": [
    "regressor1 = LinearRegression()\n",
    "regressor1.fit(X_train, y_train)"
   ]
  },
  {
   "cell_type": "code",
   "execution_count": 32,
   "id": "a54492b8-5a02-4e42-9986-f74beee42fda",
   "metadata": {},
   "outputs": [
    {
     "name": "stdout",
     "output_type": "stream",
     "text": [
      "Training accuracy :  0.7781398138173318\n",
      "Test accuracy :  0.7754131912344161\n"
     ]
    }
   ],
   "source": [
    "print(\"Training accuracy : \", regressor1.score(X_train, y_train))\n",
    "print(\"Test accuracy : \", regressor1.score(X_test, y_test))"
   ]
  },
  {
   "cell_type": "code",
   "execution_count": 33,
   "id": "64ed0f8b-130b-42e4-b0a8-d941fa1dd1f9",
   "metadata": {},
   "outputs": [
    {
     "data": {
      "text/html": [
       "<div>\n",
       "<style scoped>\n",
       "    .dataframe tbody tr th:only-of-type {\n",
       "        vertical-align: middle;\n",
       "    }\n",
       "\n",
       "    .dataframe tbody tr th {\n",
       "        vertical-align: top;\n",
       "    }\n",
       "\n",
       "    .dataframe thead th {\n",
       "        text-align: right;\n",
       "    }\n",
       "</style>\n",
       "<table border=\"1\" class=\"dataframe\">\n",
       "  <thead>\n",
       "    <tr style=\"text-align: right;\">\n",
       "      <th></th>\n",
       "      <th>fare_amount</th>\n",
       "      <th>pickup_longitude</th>\n",
       "      <th>pickup_latitude</th>\n",
       "      <th>dropoff_longitude</th>\n",
       "      <th>dropoff_latitude</th>\n",
       "      <th>passenger_count</th>\n",
       "      <th>pickup_timehour</th>\n",
       "      <th>Day</th>\n",
       "      <th>Day Part</th>\n",
       "      <th>pickup_month</th>\n",
       "      <th>pickup_year</th>\n",
       "      <th>Distance</th>\n",
       "    </tr>\n",
       "  </thead>\n",
       "  <tbody>\n",
       "    <tr>\n",
       "      <th>fare_amount</th>\n",
       "      <td>1.000000</td>\n",
       "      <td>0.011832</td>\n",
       "      <td>-0.008636</td>\n",
       "      <td>0.010359</td>\n",
       "      <td>-0.008466</td>\n",
       "      <td>0.012365</td>\n",
       "      <td>-0.020701</td>\n",
       "      <td>-0.002585</td>\n",
       "      <td>0.000952</td>\n",
       "      <td>0.024349</td>\n",
       "      <td>0.121585</td>\n",
       "      <td>0.874936</td>\n",
       "    </tr>\n",
       "    <tr>\n",
       "      <th>pickup_longitude</th>\n",
       "      <td>0.011832</td>\n",
       "      <td>1.000000</td>\n",
       "      <td>-0.994005</td>\n",
       "      <td>0.999884</td>\n",
       "      <td>-0.993973</td>\n",
       "      <td>0.009670</td>\n",
       "      <td>0.001840</td>\n",
       "      <td>-0.005300</td>\n",
       "      <td>-0.004546</td>\n",
       "      <td>-0.007511</td>\n",
       "      <td>0.013456</td>\n",
       "      <td>0.005420</td>\n",
       "    </tr>\n",
       "    <tr>\n",
       "      <th>pickup_latitude</th>\n",
       "      <td>-0.008636</td>\n",
       "      <td>-0.994005</td>\n",
       "      <td>1.000000</td>\n",
       "      <td>-0.993993</td>\n",
       "      <td>0.999929</td>\n",
       "      <td>-0.009828</td>\n",
       "      <td>-0.000988</td>\n",
       "      <td>0.005617</td>\n",
       "      <td>0.003058</td>\n",
       "      <td>0.008036</td>\n",
       "      <td>-0.014409</td>\n",
       "      <td>-0.002907</td>\n",
       "    </tr>\n",
       "    <tr>\n",
       "      <th>dropoff_longitude</th>\n",
       "      <td>0.010359</td>\n",
       "      <td>0.999884</td>\n",
       "      <td>-0.993993</td>\n",
       "      <td>1.000000</td>\n",
       "      <td>-0.993960</td>\n",
       "      <td>0.009665</td>\n",
       "      <td>0.000941</td>\n",
       "      <td>-0.005332</td>\n",
       "      <td>-0.003690</td>\n",
       "      <td>-0.007468</td>\n",
       "      <td>0.013343</td>\n",
       "      <td>0.004505</td>\n",
       "    </tr>\n",
       "    <tr>\n",
       "      <th>dropoff_latitude</th>\n",
       "      <td>-0.008466</td>\n",
       "      <td>-0.993973</td>\n",
       "      <td>0.999929</td>\n",
       "      <td>-0.993960</td>\n",
       "      <td>1.000000</td>\n",
       "      <td>-0.009785</td>\n",
       "      <td>-0.001016</td>\n",
       "      <td>0.005605</td>\n",
       "      <td>0.003134</td>\n",
       "      <td>0.007998</td>\n",
       "      <td>-0.014333</td>\n",
       "      <td>-0.002238</td>\n",
       "    </tr>\n",
       "    <tr>\n",
       "      <th>passenger_count</th>\n",
       "      <td>0.012365</td>\n",
       "      <td>0.009670</td>\n",
       "      <td>-0.009828</td>\n",
       "      <td>0.009665</td>\n",
       "      <td>-0.009785</td>\n",
       "      <td>1.000000</td>\n",
       "      <td>0.014759</td>\n",
       "      <td>-0.014473</td>\n",
       "      <td>0.003779</td>\n",
       "      <td>0.008785</td>\n",
       "      <td>0.005282</td>\n",
       "      <td>0.008691</td>\n",
       "    </tr>\n",
       "    <tr>\n",
       "      <th>pickup_timehour</th>\n",
       "      <td>-0.020701</td>\n",
       "      <td>0.001840</td>\n",
       "      <td>-0.000988</td>\n",
       "      <td>0.000941</td>\n",
       "      <td>-0.001016</td>\n",
       "      <td>0.014759</td>\n",
       "      <td>1.000000</td>\n",
       "      <td>0.021918</td>\n",
       "      <td>-0.372617</td>\n",
       "      <td>-0.004282</td>\n",
       "      <td>0.001936</td>\n",
       "      <td>-0.032262</td>\n",
       "    </tr>\n",
       "    <tr>\n",
       "      <th>Day</th>\n",
       "      <td>-0.002585</td>\n",
       "      <td>-0.005300</td>\n",
       "      <td>0.005617</td>\n",
       "      <td>-0.005332</td>\n",
       "      <td>0.005605</td>\n",
       "      <td>-0.014473</td>\n",
       "      <td>0.021918</td>\n",
       "      <td>1.000000</td>\n",
       "      <td>-0.024499</td>\n",
       "      <td>0.000354</td>\n",
       "      <td>-0.004428</td>\n",
       "      <td>-0.010149</td>\n",
       "    </tr>\n",
       "    <tr>\n",
       "      <th>Day Part</th>\n",
       "      <td>0.000952</td>\n",
       "      <td>-0.004546</td>\n",
       "      <td>0.003058</td>\n",
       "      <td>-0.003690</td>\n",
       "      <td>0.003134</td>\n",
       "      <td>0.003779</td>\n",
       "      <td>-0.372617</td>\n",
       "      <td>-0.024499</td>\n",
       "      <td>1.000000</td>\n",
       "      <td>0.006800</td>\n",
       "      <td>0.005647</td>\n",
       "      <td>0.043509</td>\n",
       "    </tr>\n",
       "    <tr>\n",
       "      <th>pickup_month</th>\n",
       "      <td>0.024349</td>\n",
       "      <td>-0.007511</td>\n",
       "      <td>0.008036</td>\n",
       "      <td>-0.007468</td>\n",
       "      <td>0.007998</td>\n",
       "      <td>0.008785</td>\n",
       "      <td>-0.004282</td>\n",
       "      <td>0.000354</td>\n",
       "      <td>0.006800</td>\n",
       "      <td>1.000000</td>\n",
       "      <td>-0.115294</td>\n",
       "      <td>0.012127</td>\n",
       "    </tr>\n",
       "    <tr>\n",
       "      <th>pickup_year</th>\n",
       "      <td>0.121585</td>\n",
       "      <td>0.013456</td>\n",
       "      <td>-0.014409</td>\n",
       "      <td>0.013343</td>\n",
       "      <td>-0.014333</td>\n",
       "      <td>0.005282</td>\n",
       "      <td>0.001936</td>\n",
       "      <td>-0.004428</td>\n",
       "      <td>0.005647</td>\n",
       "      <td>-0.115294</td>\n",
       "      <td>1.000000</td>\n",
       "      <td>0.026749</td>\n",
       "    </tr>\n",
       "    <tr>\n",
       "      <th>Distance</th>\n",
       "      <td>0.874936</td>\n",
       "      <td>0.005420</td>\n",
       "      <td>-0.002907</td>\n",
       "      <td>0.004505</td>\n",
       "      <td>-0.002238</td>\n",
       "      <td>0.008691</td>\n",
       "      <td>-0.032262</td>\n",
       "      <td>-0.010149</td>\n",
       "      <td>0.043509</td>\n",
       "      <td>0.012127</td>\n",
       "      <td>0.026749</td>\n",
       "      <td>1.000000</td>\n",
       "    </tr>\n",
       "  </tbody>\n",
       "</table>\n",
       "</div>"
      ],
      "text/plain": [
       "                   fare_amount  pickup_longitude  pickup_latitude  \\\n",
       "fare_amount           1.000000          0.011832        -0.008636   \n",
       "pickup_longitude      0.011832          1.000000        -0.994005   \n",
       "pickup_latitude      -0.008636         -0.994005         1.000000   \n",
       "dropoff_longitude     0.010359          0.999884        -0.993993   \n",
       "dropoff_latitude     -0.008466         -0.993973         0.999929   \n",
       "passenger_count       0.012365          0.009670        -0.009828   \n",
       "pickup_timehour      -0.020701          0.001840        -0.000988   \n",
       "Day                  -0.002585         -0.005300         0.005617   \n",
       "Day Part              0.000952         -0.004546         0.003058   \n",
       "pickup_month          0.024349         -0.007511         0.008036   \n",
       "pickup_year           0.121585          0.013456        -0.014409   \n",
       "Distance              0.874936          0.005420        -0.002907   \n",
       "\n",
       "                   dropoff_longitude  dropoff_latitude  passenger_count  \\\n",
       "fare_amount                 0.010359         -0.008466         0.012365   \n",
       "pickup_longitude            0.999884         -0.993973         0.009670   \n",
       "pickup_latitude            -0.993993          0.999929        -0.009828   \n",
       "dropoff_longitude           1.000000         -0.993960         0.009665   \n",
       "dropoff_latitude           -0.993960          1.000000        -0.009785   \n",
       "passenger_count             0.009665         -0.009785         1.000000   \n",
       "pickup_timehour             0.000941         -0.001016         0.014759   \n",
       "Day                        -0.005332          0.005605        -0.014473   \n",
       "Day Part                   -0.003690          0.003134         0.003779   \n",
       "pickup_month               -0.007468          0.007998         0.008785   \n",
       "pickup_year                 0.013343         -0.014333         0.005282   \n",
       "Distance                    0.004505         -0.002238         0.008691   \n",
       "\n",
       "                   pickup_timehour       Day  Day Part  pickup_month  \\\n",
       "fare_amount              -0.020701 -0.002585  0.000952      0.024349   \n",
       "pickup_longitude          0.001840 -0.005300 -0.004546     -0.007511   \n",
       "pickup_latitude          -0.000988  0.005617  0.003058      0.008036   \n",
       "dropoff_longitude         0.000941 -0.005332 -0.003690     -0.007468   \n",
       "dropoff_latitude         -0.001016  0.005605  0.003134      0.007998   \n",
       "passenger_count           0.014759 -0.014473  0.003779      0.008785   \n",
       "pickup_timehour           1.000000  0.021918 -0.372617     -0.004282   \n",
       "Day                       0.021918  1.000000 -0.024499      0.000354   \n",
       "Day Part                 -0.372617 -0.024499  1.000000      0.006800   \n",
       "pickup_month             -0.004282  0.000354  0.006800      1.000000   \n",
       "pickup_year               0.001936 -0.004428  0.005647     -0.115294   \n",
       "Distance                 -0.032262 -0.010149  0.043509      0.012127   \n",
       "\n",
       "                   pickup_year  Distance  \n",
       "fare_amount           0.121585  0.874936  \n",
       "pickup_longitude      0.013456  0.005420  \n",
       "pickup_latitude      -0.014409 -0.002907  \n",
       "dropoff_longitude     0.013343  0.004505  \n",
       "dropoff_latitude     -0.014333 -0.002238  \n",
       "passenger_count       0.005282  0.008691  \n",
       "pickup_timehour       0.001936 -0.032262  \n",
       "Day                  -0.004428 -0.010149  \n",
       "Day Part              0.005647  0.043509  \n",
       "pickup_month         -0.115294  0.012127  \n",
       "pickup_year           1.000000  0.026749  \n",
       "Distance              0.026749  1.000000  "
      ]
     },
     "execution_count": 33,
     "metadata": {},
     "output_type": "execute_result"
    }
   ],
   "source": [
    "df2.corr()"
   ]
  },
  {
   "cell_type": "code",
   "execution_count": 34,
   "id": "615d71cc-5229-46ba-874e-311288a9a87b",
   "metadata": {},
   "outputs": [],
   "source": [
    "X = df2[['pickup_year', 'Distance']].values\n",
    "y = df2.fare_amount"
   ]
  },
  {
   "cell_type": "code",
   "execution_count": 35,
   "id": "8f91516e-0bfa-4578-af03-cbcc2b1dccc9",
   "metadata": {},
   "outputs": [],
   "source": [
    "X_train, X_test, y_train, y_test= train_test_split(X,y,test_size=0.3,random_state=10)"
   ]
  },
  {
   "cell_type": "code",
   "execution_count": 36,
   "id": "2ce98c84-42ad-4f52-a9c4-053b5abddeb0",
   "metadata": {},
   "outputs": [
    {
     "data": {
      "text/plain": [
       "LinearRegression()"
      ]
     },
     "execution_count": 36,
     "metadata": {},
     "output_type": "execute_result"
    }
   ],
   "source": [
    "regressor2 = LinearRegression()\n",
    "regressor2.fit(X_train, y_train)"
   ]
  },
  {
   "cell_type": "code",
   "execution_count": 37,
   "id": "89751bb0-39ff-45b6-a654-25a65e4fe883",
   "metadata": {},
   "outputs": [
    {
     "name": "stdout",
     "output_type": "stream",
     "text": [
      "Training accuracy :  0.7759081737835758\n",
      "Test accuracy :  0.7733947003847169\n"
     ]
    }
   ],
   "source": [
    "print(\"Training accuracy : \", regressor2.score(X_train, y_train))\n",
    "print(\"Test accuracy : \", regressor2.score(X_test, y_test))"
   ]
  },
  {
   "cell_type": "markdown",
   "id": "21814330-484e-4c09-9031-bb0f1a9c8556",
   "metadata": {},
   "source": [
    "## From the above model's performance and the correlation data we can see that the model can perform even better with better feature selection. In model1 we took all the features and in model2 we took features with high correlation but both performance are the same. And when we observe there is some multicollinarity and we'll work on that further"
   ]
  },
  {
   "cell_type": "markdown",
   "id": "1483ff8f-5548-4858-abca-969c86252062",
   "metadata": {},
   "source": [
    "### Let's drop some unmeaningful columns "
   ]
  },
  {
   "cell_type": "code",
   "execution_count": 38,
   "id": "b869fa06-d325-4b31-8931-9b4f7cd460d7",
   "metadata": {},
   "outputs": [
    {
     "data": {
      "text/plain": [
       "Index(['fare_amount', 'pickup_datetime', 'pickup_longitude', 'pickup_latitude',\n",
       "       'dropoff_longitude', 'dropoff_latitude', 'passenger_count',\n",
       "       'pickup_timehour', 'Day', 'Day Part', 'pickup_month', 'pickup_year',\n",
       "       'Distance'],\n",
       "      dtype='object')"
      ]
     },
     "execution_count": 38,
     "metadata": {},
     "output_type": "execute_result"
    }
   ],
   "source": [
    "df.columns"
   ]
  },
  {
   "cell_type": "code",
   "execution_count": 39,
   "id": "cdf84f3b-a0e3-4821-8086-8c4fd6dd3c50",
   "metadata": {},
   "outputs": [],
   "source": [
    "df.drop(['pickup_datetime', 'pickup_longitude', 'pickup_latitude',\n",
    "       'dropoff_longitude', 'dropoff_latitude', 'pickup_timehour'], axis = 1, inplace = True)"
   ]
  },
  {
   "cell_type": "markdown",
   "id": "8f2e0e74-2791-4901-a615-5b7e11400d54",
   "metadata": {},
   "source": [
    "### OneHotEncoding the Day and Day Part to get features"
   ]
  },
  {
   "cell_type": "code",
   "execution_count": 40,
   "id": "20382226-bf03-4ec7-80e8-0bef4dee4ba9",
   "metadata": {},
   "outputs": [],
   "source": [
    "df_temp= pd.get_dummies(df[['Day','Day Part']], drop_first = True)\n",
    "df = pd.concat([df, df_temp], axis = 1)"
   ]
  },
  {
   "cell_type": "code",
   "execution_count": 41,
   "id": "36ad2ae6-8539-45a7-a89a-f210861014e0",
   "metadata": {},
   "outputs": [],
   "source": [
    "df.drop(['Day', 'Day Part'], axis = 1, inplace = True)"
   ]
  },
  {
   "cell_type": "code",
   "execution_count": 42,
   "id": "a270749e-a86a-4980-8e66-66b65b1c8b95",
   "metadata": {},
   "outputs": [
    {
     "data": {
      "text/html": [
       "<div>\n",
       "<style scoped>\n",
       "    .dataframe tbody tr th:only-of-type {\n",
       "        vertical-align: middle;\n",
       "    }\n",
       "\n",
       "    .dataframe tbody tr th {\n",
       "        vertical-align: top;\n",
       "    }\n",
       "\n",
       "    .dataframe thead th {\n",
       "        text-align: right;\n",
       "    }\n",
       "</style>\n",
       "<table border=\"1\" class=\"dataframe\">\n",
       "  <thead>\n",
       "    <tr style=\"text-align: right;\">\n",
       "      <th></th>\n",
       "      <th>fare_amount</th>\n",
       "      <th>passenger_count</th>\n",
       "      <th>pickup_month</th>\n",
       "      <th>pickup_year</th>\n",
       "      <th>Distance</th>\n",
       "      <th>Day_Monday</th>\n",
       "      <th>Day_Saturday</th>\n",
       "      <th>Day_Sunday</th>\n",
       "      <th>Day_Thursday</th>\n",
       "      <th>Day_Tuesday</th>\n",
       "      <th>Day_Wednesday</th>\n",
       "      <th>Day Part_Evening</th>\n",
       "      <th>Day Part_Morning</th>\n",
       "      <th>Day Part_Night</th>\n",
       "    </tr>\n",
       "  </thead>\n",
       "  <tbody>\n",
       "    <tr>\n",
       "      <th>0</th>\n",
       "      <td>7.5</td>\n",
       "      <td>1</td>\n",
       "      <td>5</td>\n",
       "      <td>2015</td>\n",
       "      <td>1.68111</td>\n",
       "      <td>0</td>\n",
       "      <td>0</td>\n",
       "      <td>0</td>\n",
       "      <td>1</td>\n",
       "      <td>0</td>\n",
       "      <td>0</td>\n",
       "      <td>1</td>\n",
       "      <td>0</td>\n",
       "      <td>0</td>\n",
       "    </tr>\n",
       "    <tr>\n",
       "      <th>1</th>\n",
       "      <td>7.7</td>\n",
       "      <td>1</td>\n",
       "      <td>7</td>\n",
       "      <td>2009</td>\n",
       "      <td>2.45436</td>\n",
       "      <td>0</td>\n",
       "      <td>0</td>\n",
       "      <td>0</td>\n",
       "      <td>0</td>\n",
       "      <td>0</td>\n",
       "      <td>0</td>\n",
       "      <td>1</td>\n",
       "      <td>0</td>\n",
       "      <td>0</td>\n",
       "    </tr>\n",
       "    <tr>\n",
       "      <th>2</th>\n",
       "      <td>12.9</td>\n",
       "      <td>1</td>\n",
       "      <td>8</td>\n",
       "      <td>2009</td>\n",
       "      <td>5.03960</td>\n",
       "      <td>1</td>\n",
       "      <td>0</td>\n",
       "      <td>0</td>\n",
       "      <td>0</td>\n",
       "      <td>0</td>\n",
       "      <td>0</td>\n",
       "      <td>1</td>\n",
       "      <td>0</td>\n",
       "      <td>0</td>\n",
       "    </tr>\n",
       "    <tr>\n",
       "      <th>3</th>\n",
       "      <td>5.3</td>\n",
       "      <td>3</td>\n",
       "      <td>6</td>\n",
       "      <td>2009</td>\n",
       "      <td>1.66144</td>\n",
       "      <td>0</td>\n",
       "      <td>0</td>\n",
       "      <td>0</td>\n",
       "      <td>0</td>\n",
       "      <td>0</td>\n",
       "      <td>0</td>\n",
       "      <td>0</td>\n",
       "      <td>1</td>\n",
       "      <td>0</td>\n",
       "    </tr>\n",
       "    <tr>\n",
       "      <th>4</th>\n",
       "      <td>16.0</td>\n",
       "      <td>5</td>\n",
       "      <td>8</td>\n",
       "      <td>2014</td>\n",
       "      <td>4.48373</td>\n",
       "      <td>0</td>\n",
       "      <td>0</td>\n",
       "      <td>0</td>\n",
       "      <td>1</td>\n",
       "      <td>0</td>\n",
       "      <td>0</td>\n",
       "      <td>0</td>\n",
       "      <td>0</td>\n",
       "      <td>0</td>\n",
       "    </tr>\n",
       "  </tbody>\n",
       "</table>\n",
       "</div>"
      ],
      "text/plain": [
       "   fare_amount  passenger_count  pickup_month  pickup_year  Distance  \\\n",
       "0          7.5                1             5         2015   1.68111   \n",
       "1          7.7                1             7         2009   2.45436   \n",
       "2         12.9                1             8         2009   5.03960   \n",
       "3          5.3                3             6         2009   1.66144   \n",
       "4         16.0                5             8         2014   4.48373   \n",
       "\n",
       "   Day_Monday  Day_Saturday  Day_Sunday  Day_Thursday  Day_Tuesday  \\\n",
       "0           0             0           0             1            0   \n",
       "1           0             0           0             0            0   \n",
       "2           1             0           0             0            0   \n",
       "3           0             0           0             0            0   \n",
       "4           0             0           0             1            0   \n",
       "\n",
       "   Day_Wednesday  Day Part_Evening  Day Part_Morning  Day Part_Night  \n",
       "0              0                 1                 0               0  \n",
       "1              0                 1                 0               0  \n",
       "2              0                 1                 0               0  \n",
       "3              0                 0                 1               0  \n",
       "4              0                 0                 0               0  "
      ]
     },
     "execution_count": 42,
     "metadata": {},
     "output_type": "execute_result"
    }
   ],
   "source": [
    "df.head()"
   ]
  },
  {
   "cell_type": "code",
   "execution_count": 43,
   "id": "73a90346-19d5-47b9-bbaa-c34e443d08ab",
   "metadata": {},
   "outputs": [
    {
     "data": {
      "text/plain": [
       "(193165, 14)"
      ]
     },
     "execution_count": 43,
     "metadata": {},
     "output_type": "execute_result"
    }
   ],
   "source": [
    "df.shape"
   ]
  },
  {
   "cell_type": "markdown",
   "id": "aa8d7693-409e-40b1-8805-4ac461b04fe0",
   "metadata": {},
   "source": [
    "## Checking for Multicollinearity using Variance Inflation Factor (Higher VIF means existance of Multicollinearity)"
   ]
  },
  {
   "cell_type": "code",
   "execution_count": 44,
   "id": "be14de3b-d3de-411d-838d-e80022619bb4",
   "metadata": {},
   "outputs": [],
   "source": [
    "# VIF\n",
    "\n",
    "def calc_vif(X):\n",
    "\n",
    "    # Calculating VIF\n",
    "    vif = pd.DataFrame()\n",
    "    vif[\"variables\"] = X.columns\n",
    "    vif[\"VIF\"] = [variance_inflation_factor(X.values, i) for i in range(X.shape[1])]\n",
    "\n",
    "    return(vif)"
   ]
  },
  {
   "cell_type": "code",
   "execution_count": 45,
   "id": "57b776bc-b53b-45e0-a464-3fcd04b4a6a4",
   "metadata": {},
   "outputs": [
    {
     "data": {
      "text/html": [
       "<div>\n",
       "<style scoped>\n",
       "    .dataframe tbody tr th:only-of-type {\n",
       "        vertical-align: middle;\n",
       "    }\n",
       "\n",
       "    .dataframe tbody tr th {\n",
       "        vertical-align: top;\n",
       "    }\n",
       "\n",
       "    .dataframe thead th {\n",
       "        text-align: right;\n",
       "    }\n",
       "</style>\n",
       "<table border=\"1\" class=\"dataframe\">\n",
       "  <thead>\n",
       "    <tr style=\"text-align: right;\">\n",
       "      <th></th>\n",
       "      <th>variables</th>\n",
       "      <th>VIF</th>\n",
       "    </tr>\n",
       "  </thead>\n",
       "  <tbody>\n",
       "    <tr>\n",
       "      <th>0</th>\n",
       "      <td>passenger_count</td>\n",
       "      <td>2.684166</td>\n",
       "    </tr>\n",
       "    <tr>\n",
       "      <th>1</th>\n",
       "      <td>pickup_month</td>\n",
       "      <td>4.336003</td>\n",
       "    </tr>\n",
       "    <tr>\n",
       "      <th>2</th>\n",
       "      <td>pickup_year</td>\n",
       "      <td>15.492259</td>\n",
       "    </tr>\n",
       "    <tr>\n",
       "      <th>3</th>\n",
       "      <td>Distance</td>\n",
       "      <td>1.877357</td>\n",
       "    </tr>\n",
       "    <tr>\n",
       "      <th>4</th>\n",
       "      <td>Day_Monday</td>\n",
       "      <td>1.819632</td>\n",
       "    </tr>\n",
       "    <tr>\n",
       "      <th>5</th>\n",
       "      <td>Day_Saturday</td>\n",
       "      <td>1.991187</td>\n",
       "    </tr>\n",
       "    <tr>\n",
       "      <th>6</th>\n",
       "      <td>Day_Sunday</td>\n",
       "      <td>1.868571</td>\n",
       "    </tr>\n",
       "    <tr>\n",
       "      <th>7</th>\n",
       "      <td>Day_Thursday</td>\n",
       "      <td>1.974273</td>\n",
       "    </tr>\n",
       "    <tr>\n",
       "      <th>8</th>\n",
       "      <td>Day_Tuesday</td>\n",
       "      <td>1.915341</td>\n",
       "    </tr>\n",
       "    <tr>\n",
       "      <th>9</th>\n",
       "      <td>Day_Wednesday</td>\n",
       "      <td>1.942511</td>\n",
       "    </tr>\n",
       "    <tr>\n",
       "      <th>10</th>\n",
       "      <td>Day Part_Evening</td>\n",
       "      <td>2.012782</td>\n",
       "    </tr>\n",
       "    <tr>\n",
       "      <th>11</th>\n",
       "      <td>Day Part_Morning</td>\n",
       "      <td>2.279723</td>\n",
       "    </tr>\n",
       "    <tr>\n",
       "      <th>12</th>\n",
       "      <td>Day Part_Night</td>\n",
       "      <td>1.966126</td>\n",
       "    </tr>\n",
       "  </tbody>\n",
       "</table>\n",
       "</div>"
      ],
      "text/plain": [
       "           variables        VIF\n",
       "0    passenger_count   2.684166\n",
       "1       pickup_month   4.336003\n",
       "2        pickup_year  15.492259\n",
       "3           Distance   1.877357\n",
       "4         Day_Monday   1.819632\n",
       "5       Day_Saturday   1.991187\n",
       "6         Day_Sunday   1.868571\n",
       "7       Day_Thursday   1.974273\n",
       "8        Day_Tuesday   1.915341\n",
       "9      Day_Wednesday   1.942511\n",
       "10  Day Part_Evening   2.012782\n",
       "11  Day Part_Morning   2.279723\n",
       "12    Day Part_Night   1.966126"
      ]
     },
     "execution_count": 45,
     "metadata": {},
     "output_type": "execute_result"
    }
   ],
   "source": [
    "X = df.iloc[:, 1:]\n",
    "calc_vif(X)"
   ]
  },
  {
   "cell_type": "code",
   "execution_count": 46,
   "id": "184d88a3-2b07-45dd-aade-db673005703a",
   "metadata": {},
   "outputs": [],
   "source": [
    "# Removing those features with high VIF\n",
    "df.drop(['pickup_year', 'pickup_month'], axis = 1, inplace = True)"
   ]
  },
  {
   "cell_type": "code",
   "execution_count": 47,
   "id": "9d4fdc80-2d64-4c84-ab9d-9d52d8a4f842",
   "metadata": {},
   "outputs": [
    {
     "data": {
      "text/html": [
       "<div>\n",
       "<style scoped>\n",
       "    .dataframe tbody tr th:only-of-type {\n",
       "        vertical-align: middle;\n",
       "    }\n",
       "\n",
       "    .dataframe tbody tr th {\n",
       "        vertical-align: top;\n",
       "    }\n",
       "\n",
       "    .dataframe thead th {\n",
       "        text-align: right;\n",
       "    }\n",
       "</style>\n",
       "<table border=\"1\" class=\"dataframe\">\n",
       "  <thead>\n",
       "    <tr style=\"text-align: right;\">\n",
       "      <th></th>\n",
       "      <th>variables</th>\n",
       "      <th>VIF</th>\n",
       "    </tr>\n",
       "  </thead>\n",
       "  <tbody>\n",
       "    <tr>\n",
       "      <th>0</th>\n",
       "      <td>passenger_count</td>\n",
       "      <td>2.323053</td>\n",
       "    </tr>\n",
       "    <tr>\n",
       "      <th>1</th>\n",
       "      <td>Distance</td>\n",
       "      <td>1.757002</td>\n",
       "    </tr>\n",
       "    <tr>\n",
       "      <th>2</th>\n",
       "      <td>Day_Monday</td>\n",
       "      <td>1.373741</td>\n",
       "    </tr>\n",
       "    <tr>\n",
       "      <th>3</th>\n",
       "      <td>Day_Saturday</td>\n",
       "      <td>1.477487</td>\n",
       "    </tr>\n",
       "    <tr>\n",
       "      <th>4</th>\n",
       "      <td>Day_Sunday</td>\n",
       "      <td>1.420841</td>\n",
       "    </tr>\n",
       "    <tr>\n",
       "      <th>5</th>\n",
       "      <td>Day_Thursday</td>\n",
       "      <td>1.456978</td>\n",
       "    </tr>\n",
       "    <tr>\n",
       "      <th>6</th>\n",
       "      <td>Day_Tuesday</td>\n",
       "      <td>1.417900</td>\n",
       "    </tr>\n",
       "    <tr>\n",
       "      <th>7</th>\n",
       "      <td>Day_Wednesday</td>\n",
       "      <td>1.432193</td>\n",
       "    </tr>\n",
       "    <tr>\n",
       "      <th>8</th>\n",
       "      <td>Day Part_Evening</td>\n",
       "      <td>1.656361</td>\n",
       "    </tr>\n",
       "    <tr>\n",
       "      <th>9</th>\n",
       "      <td>Day Part_Morning</td>\n",
       "      <td>1.806143</td>\n",
       "    </tr>\n",
       "    <tr>\n",
       "      <th>10</th>\n",
       "      <td>Day Part_Night</td>\n",
       "      <td>1.654377</td>\n",
       "    </tr>\n",
       "  </tbody>\n",
       "</table>\n",
       "</div>"
      ],
      "text/plain": [
       "           variables       VIF\n",
       "0    passenger_count  2.323053\n",
       "1           Distance  1.757002\n",
       "2         Day_Monday  1.373741\n",
       "3       Day_Saturday  1.477487\n",
       "4         Day_Sunday  1.420841\n",
       "5       Day_Thursday  1.456978\n",
       "6        Day_Tuesday  1.417900\n",
       "7      Day_Wednesday  1.432193\n",
       "8   Day Part_Evening  1.656361\n",
       "9   Day Part_Morning  1.806143\n",
       "10    Day Part_Night  1.654377"
      ]
     },
     "execution_count": 47,
     "metadata": {},
     "output_type": "execute_result"
    }
   ],
   "source": [
    "X = df.iloc[:, 1:]\n",
    "calc_vif(X)"
   ]
  },
  {
   "cell_type": "markdown",
   "id": "24566669-3dac-4778-b839-0997d25b3d9b",
   "metadata": {},
   "source": [
    "## Training "
   ]
  },
  {
   "cell_type": "code",
   "execution_count": 48,
   "id": "10c8fd5e-40b9-44c7-89b5-d0d1a68c2e7b",
   "metadata": {},
   "outputs": [],
   "source": [
    "scaler = MinMaxScaler()"
   ]
  },
  {
   "cell_type": "code",
   "execution_count": 49,
   "id": "aa57eb67-7d5f-403f-9829-76c08e95bd35",
   "metadata": {},
   "outputs": [],
   "source": [
    "X = df.iloc[:, 1:]\n",
    "y = df.fare_amount"
   ]
  },
  {
   "cell_type": "code",
   "execution_count": 50,
   "id": "b0ae1909-1193-492a-948a-303396c82394",
   "metadata": {},
   "outputs": [],
   "source": [
    "X_train, X_test, y_train, y_test = train_test_split(X, y, test_size=0.3, random_state=10)\n",
    "X_train['Distance'] = scaler.fit_transform(X_train['Distance'].values.reshape(-1, 1))\n",
    "X_test['Distance'] = scaler.transform(X_test['Distance'].values.reshape(-1, 1))"
   ]
  },
  {
   "cell_type": "code",
   "execution_count": 51,
   "id": "a4f91236-3513-4b43-884e-6471e2df1218",
   "metadata": {},
   "outputs": [
    {
     "data": {
      "text/plain": [
       "LinearRegression()"
      ]
     },
     "execution_count": 51,
     "metadata": {},
     "output_type": "execute_result"
    }
   ],
   "source": [
    "regressor = LinearRegression()\n",
    "regressor.fit(X_train, y_train)"
   ]
  },
  {
   "cell_type": "code",
   "execution_count": 52,
   "id": "3761aff2-f4de-4416-85fa-32f96b03e50c",
   "metadata": {},
   "outputs": [
    {
     "name": "stdout",
     "output_type": "stream",
     "text": [
      "Training accuracy :  0.7695080757998611\n",
      "Test accuracy :  0.7661039279013575\n"
     ]
    }
   ],
   "source": [
    "print(\"Training accuracy : \", regressor.score(X_train, y_train))\n",
    "print(\"Test accuracy : \", regressor.score(X_test, y_test))"
   ]
  },
  {
   "cell_type": "markdown",
   "id": "13820ae8-430f-43b3-88f5-9d5d561e8896",
   "metadata": {},
   "source": [
    "### The simple linear model performed with a decent score. Let us try with a complex model"
   ]
  },
  {
   "cell_type": "markdown",
   "id": "2d49a6a7-01a6-4bed-b1e5-20a83398ff9e",
   "metadata": {},
   "source": [
    "## Random Forest Regression Model"
   ]
  },
  {
   "cell_type": "code",
   "execution_count": 53,
   "id": "7cd6f594-3a8c-4e8c-981e-a2b0a6ad81f8",
   "metadata": {},
   "outputs": [
    {
     "data": {
      "text/plain": [
       "RandomForestRegressor(n_estimators=10)"
      ]
     },
     "execution_count": 53,
     "metadata": {},
     "output_type": "execute_result"
    }
   ],
   "source": [
    "rf_regressor = RandomForestRegressor(n_estimators = 10)\n",
    "rf_regressor.fit(X_train, y_train)"
   ]
  },
  {
   "cell_type": "code",
   "execution_count": 54,
   "id": "79819dad-ec1f-46e1-abbf-4999b150fd37",
   "metadata": {},
   "outputs": [
    {
     "name": "stdout",
     "output_type": "stream",
     "text": [
      "Training accuracy :  0.9523057892267294\n",
      "Test accuracy :  0.7269304090681907\n"
     ]
    }
   ],
   "source": [
    "print(\"Training accuracy : \", rf_regressor.score(X_train, y_train))\n",
    "print(\"Test accuracy : \", rf_regressor.score(X_test, y_test))"
   ]
  },
  {
   "cell_type": "markdown",
   "id": "9dbe88e8-6a3e-4e9a-b13c-0e3940aa2bb0",
   "metadata": {},
   "source": [
    "# <center>4. Model Optimization"
   ]
  },
  {
   "cell_type": "code",
   "execution_count": 55,
   "id": "150bd5af-6b0b-4c81-abdf-9ec4de595eaf",
   "metadata": {},
   "outputs": [
    {
     "data": {
      "text/plain": [
       "RandomizedSearchCV(cv=5, estimator=RandomForestRegressor(),\n",
       "                   param_distributions={'max_depth': [2, 7, 12, 17],\n",
       "                                        'min_samples_leaf': [10, 20, 30, 40,\n",
       "                                                             50],\n",
       "                                        'min_samples_split': [3, 4, 5, 7, 10,\n",
       "                                                              20],\n",
       "                                        'n_estimators': [30, 35, 40, 45]},\n",
       "                   return_train_score=True, scoring='r2')"
      ]
     },
     "execution_count": 55,
     "metadata": {},
     "output_type": "execute_result"
    }
   ],
   "source": [
    "# Using Random Search and Grid model let's find the best parameter for our regression model\n",
    "\n",
    "rf_reg = RandomForestRegressor()\n",
    "parameters = {'n_estimators':[i for i in range(30,50,5)], 'max_depth':[i for i in range(2,20,5)],\n",
    "              'min_samples_split':[3,4,5,7,10,20], 'min_samples_leaf':[10,20,30,40,50]}\n",
    "n_folds = 5\n",
    "grid_model = RandomizedSearchCV(estimator=rf_reg, param_distributions=parameters, cv=n_folds, scoring='r2',\n",
    "                                return_train_score=True)\n",
    "grid_model.fit(X_train, y_train)"
   ]
  },
  {
   "cell_type": "code",
   "execution_count": 56,
   "id": "b6e2be7c-b63c-4553-82d3-66b8b27dd781",
   "metadata": {},
   "outputs": [
    {
     "data": {
      "text/plain": [
       "{'n_estimators': 40,\n",
       " 'min_samples_split': 20,\n",
       " 'min_samples_leaf': 30,\n",
       " 'max_depth': 12}"
      ]
     },
     "execution_count": 56,
     "metadata": {},
     "output_type": "execute_result"
    }
   ],
   "source": [
    "grid_model.best_params_"
   ]
  },
  {
   "cell_type": "code",
   "execution_count": 57,
   "id": "171486d0-dd37-440a-beb0-c1b7d407d84b",
   "metadata": {},
   "outputs": [
    {
     "data": {
      "text/plain": [
       "0.7862873200111796"
      ]
     },
     "execution_count": 57,
     "metadata": {},
     "output_type": "execute_result"
    }
   ],
   "source": [
    "grid_model.best_score_"
   ]
  },
  {
   "cell_type": "code",
   "execution_count": 58,
   "id": "950d216a-ad6e-4119-bef5-59318bddf543",
   "metadata": {},
   "outputs": [
    {
     "data": {
      "text/plain": [
       "RandomForestRegressor(max_depth=12, min_samples_leaf=10, min_samples_split=10,\n",
       "                      n_estimators=40)"
      ]
     },
     "execution_count": 58,
     "metadata": {},
     "output_type": "execute_result"
    }
   ],
   "source": [
    "opt_rf_regressor = RandomForestRegressor(n_estimators = 40, max_depth=12, min_samples_split = 10, min_samples_leaf = 10)\n",
    "opt_rf_regressor.fit(X_train, y_train)"
   ]
  },
  {
   "cell_type": "code",
   "execution_count": 59,
   "id": "a8091db7-ab40-4c3b-85bd-a25217e4a8dd",
   "metadata": {},
   "outputs": [
    {
     "name": "stdout",
     "output_type": "stream",
     "text": [
      "Training accuracy :  0.8127552243904019\n",
      "Test accuracy :  0.7882452423934252\n"
     ]
    }
   ],
   "source": [
    "print(\"Training accuracy : \", opt_rf_regressor.score(X_train, y_train))\n",
    "print(\"Test accuracy : \", opt_rf_regressor.score(X_test, y_test))"
   ]
  },
  {
   "cell_type": "markdown",
   "id": "8325fd52-46d0-4ee6-819e-cc4266dc7a1a",
   "metadata": {},
   "source": [
    "## The above model seems to perform well with an accuracy of 80% "
   ]
  },
  {
   "cell_type": "markdown",
   "id": "9f327b81-9987-4af1-b9a5-a59a68f903a0",
   "metadata": {},
   "source": [
    "## Thank you "
   ]
  }
 ],
 "metadata": {
  "kernelspec": {
   "display_name": "Python 3",
   "language": "python",
   "name": "python3"
  },
  "language_info": {
   "codemirror_mode": {
    "name": "ipython",
    "version": 3
   },
   "file_extension": ".py",
   "mimetype": "text/x-python",
   "name": "python",
   "nbconvert_exporter": "python",
   "pygments_lexer": "ipython3",
   "version": "3.8.8"
  }
 },
 "nbformat": 4,
 "nbformat_minor": 5
}
